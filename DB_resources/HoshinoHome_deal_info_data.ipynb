{
 "cells": [
  {
   "cell_type": "code",
   "execution_count": 1,
   "metadata": {},
   "outputs": [
    {
     "name": "stdout",
     "output_type": "stream",
     "text": [
      "houseinfo 데이터가 MySQL 데이터베이스에 성공적으로 삽입되었습니다.\n"
     ]
    }
   ],
   "source": [
    "import pandas as pd\n",
    "from sqlalchemy import create_engine\n",
    "\n",
    "houseinfo_csv_path = 'final_house_info.csv'\n",
    "\n",
    "# MySQL database configuration\n",
    "db_config = {\n",
    "    'user': 'root',\n",
    "    'password': 'admin',\n",
    "    'host': 'localhost',\n",
    "    'port': 3306,\n",
    "    'database': 'hoshinoHome'\n",
    "}\n",
    "\n",
    "houseinfo_df = pd.read_csv(houseinfo_csv_path, encoding='utf-8')\n",
    "\n",
    "# Create SQLAlchemy engine\n",
    "engine = create_engine(f\"mysql+pymysql://{db_config['user']}:{db_config['password']}@{db_config['host']}:{db_config['port']}/{db_config['database']}\")\n",
    "\n",
    "houseinfo_df.to_sql('houseinfo', con=engine, if_exists='append', index=False)\n",
    "\n",
    "print(\"houseinfo 데이터가 MySQL 데이터베이스에 성공적으로 삽입되었습니다.\")"
   ]
  },
  {
   "cell_type": "code",
   "execution_count": 1,
   "metadata": {},
   "outputs": [
    {
     "name": "stderr",
     "output_type": "stream",
     "text": [
      "C:\\Users\\SSAFY\\AppData\\Local\\Temp\\ipykernel_22000\\2226679162.py:20: DtypeWarning: Columns (2,3,4,5) have mixed types. Specify dtype option on import or set low_memory=False.\n",
      "  housedeal_df = pd.read_csv(housedeal_csv_path, encoding='utf-8')\n"
     ]
    },
    {
     "name": "stdout",
     "output_type": "stream",
     "text": [
      "housedeal 데이터가 MySQL 데이터베이스에 성공적으로 삽입되었습니다.\n"
     ]
    }
   ],
   "source": [
    "import pandas as pd\n",
    "from sqlalchemy import create_engine\n",
    "\n",
    "# CSV 파일 경로\n",
    "housedeal_csv_path = 'final_house_deal.csv'\n",
    "\n",
    "# MySQL 데이터베이스 구성\n",
    "db_config = {\n",
    "    'user': 'root',\n",
    "    'password': 'admin',\n",
    "    'host': 'localhost',\n",
    "    'port': 3306,\n",
    "    'database': 'hoshinoHome'\n",
    "}\n",
    "\n",
    "# SQLAlchemy 엔진 생성\n",
    "engine = create_engine(f\"mysql+pymysql://{db_config['user']}:{db_config['password']}@{db_config['host']}:{db_config['port']}/{db_config['database']}\")\n",
    "\n",
    "# CSV 파일 읽기\n",
    "housedeal_df = pd.read_csv(housedeal_csv_path, encoding='utf-8')\n",
    "\n",
    "# 데이터베이스에 데이터 삽입\n",
    "housedeal_df.to_sql('housedeal', con=engine, if_exists='append', index=False)\n",
    "\n",
    "print(\"housedeal 데이터가 MySQL 데이터베이스에 성공적으로 삽입되었습니다.\")"
   ]
  },
  {
   "cell_type": "code",
   "execution_count": 4,
   "metadata": {},
   "outputs": [
    {
     "name": "stdout",
     "output_type": "stream",
     "text": [
      "Rows with empty house_code in housedeal_df:\n",
      "              deal_code  deal_type deal_amount deposit_amount monthly_amount  \\\n",
      "236      11110110000237          1      70,000            NaN            NaN   \n",
      "237      11110110000238          1      69,970            NaN            NaN   \n",
      "240      11110110000241          1     110,000            NaN            NaN   \n",
      "243      11110110000244          1      72,990            NaN            NaN   \n",
      "244      11110110000245          1      72,900            NaN            NaN   \n",
      "...                 ...        ...         ...            ...            ...   \n",
      "1325591  11110431350268          3         NaN          3,000             50   \n",
      "1325592  11110421350269          2         NaN         10,000              0   \n",
      "1325601  11110421350278          2         NaN         12,000              0   \n",
      "1325602  11110421350279          2         NaN         14,000              0   \n",
      "1325604  11110421350281          2         NaN         10,000              0   \n",
      "\n",
      "             jibun_address                road_address  deal_year  deal_month  \\\n",
      "236       서울특별시 종로구 무악동 82    서울특별시 종로구 무악동 통일로 246-20       2023           5   \n",
      "237       서울특별시 종로구 무악동 82    서울특별시 종로구 무악동 통일로 246-20       2023           5   \n",
      "240       서울특별시 종로구 무악동 82    서울특별시 종로구 무악동 통일로 246-20       2023           4   \n",
      "243       서울특별시 종로구 무악동 82    서울특별시 종로구 무악동 통일로 246-20       2023           3   \n",
      "244       서울특별시 종로구 무악동 82    서울특별시 종로구 무악동 통일로 246-20       2023           3   \n",
      "...                    ...                         ...        ...         ...   \n",
      "1325591  서울특별시 강동구 강일동 677  서울특별시 강동구 강일동 아리수로91길 24-9       2024           4   \n",
      "1325592  서울특별시 강동구 강일동 677  서울특별시 강동구 강일동 아리수로91길 24-9       2024           4   \n",
      "1325601  서울특별시 강동구 강일동 677  서울특별시 강동구 강일동 아리수로91길 24-9       2024           4   \n",
      "1325602  서울특별시 강동구 강일동 677  서울특별시 강동구 강일동 아리수로91길 24-9       2024           5   \n",
      "1325604  서울특별시 강동구 강일동 677  서울특별시 강동구 강일동 아리수로91길 24-9       2024           5   \n",
      "\n",
      "         deal_day    area  floor  house_code  house_type  \n",
      "236             4   60.00    2.0         NaN         NaN  \n",
      "237             4   60.00    2.0         NaN         NaN  \n",
      "240            14  114.90    9.0         NaN         NaN  \n",
      "243            23   84.92    3.0         NaN         NaN  \n",
      "244            13   60.00   12.0         NaN         NaN  \n",
      "...           ...     ...    ...         ...         ...  \n",
      "1325591         2   22.27    6.0         NaN         NaN  \n",
      "1325592         5   22.27    8.0         NaN         NaN  \n",
      "1325601        30   23.09    4.0         NaN         NaN  \n",
      "1325602         2   26.43    2.0         NaN         NaN  \n",
      "1325604         8   22.27    3.0         NaN         NaN  \n",
      "\n",
      "[322299 rows x 14 columns]\n"
     ]
    }
   ],
   "source": [
    "# Check for rows with empty house_name in house_info_df\n",
    "empty_house_code_info = housedeal_df[housedeal_df['house_code'].isna()]\n",
    "\n",
    "# Print the results\n",
    "print(\"Rows with empty house_code in housedeal_df:\")\n",
    "print(empty_house_code_info)"
   ]
  }
 ],
 "metadata": {
  "kernelspec": {
   "display_name": "Python 3",
   "language": "python",
   "name": "python3"
  },
  "language_info": {
   "codemirror_mode": {
    "name": "ipython",
    "version": 3
   },
   "file_extension": ".py",
   "mimetype": "text/x-python",
   "name": "python",
   "nbconvert_exporter": "python",
   "pygments_lexer": "ipython3",
   "version": "3.9.13"
  }
 },
 "nbformat": 4,
 "nbformat_minor": 2
}
